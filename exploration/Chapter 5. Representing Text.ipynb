{
 "cells": [
  {
   "cell_type": "markdown",
   "metadata": {},
   "source": [
    "# Code 14\n",
    "This code assumes a collection of documents called `documents`"
   ]
  },
  {
   "cell_type": "code",
   "execution_count": null,
   "metadata": {},
   "outputs": [],
   "source": [
    "from sklearn.feature_extraction.text import CountVectorizer\n",
    "\n",
    "vectorizer = CountVectorizer(analyzer='word')\n",
    "\n",
    "X = vectorizer.fit_transform(documents)"
   ]
  },
  {
   "cell_type": "markdown",
   "metadata": {},
   "source": [
    "# Code 15"
   ]
  },
  {
   "cell_type": "code",
   "execution_count": null,
   "metadata": {},
   "outputs": [],
   "source": [
    "from sklearn.feature_extraction.text import CountVectorizer\n",
    "\n",
    "vectorizer = CountVectorizer(analyzer='word',\n",
    "                             ngram_range=(1, 3),\n",
    "                             min_df=10,\n",
    "                             max_df=0.75,\n",
    "                             stop_words='english')\n",
    "\n",
    "X = vectorizer.fit_transform(documents)"
   ]
  },
  {
   "cell_type": "code",
   "execution_count": null,
   "metadata": {},
   "outputs": [],
   "source": [
    "word_vectorizer = CountVectorizer(analyzer='word',\n",
    "                                  ngram_range=(1, 2),\n",
    "                                  min_df=10,\n",
    "                                  max_df=0.75,\n",
    "                                  stop_words='english')\n",
    "\n",
    "char_vectorizer = CountVectorizer(analyzer='char',\n",
    "                                  ngram_range=(2, 6),\n",
    "                                  min_df=10,\n",
    "                                  max_df=0.75)"
   ]
  },
  {
   "cell_type": "markdown",
   "metadata": {},
   "source": [
    "# Code 16"
   ]
  },
  {
   "cell_type": "code",
   "execution_count": null,
   "metadata": {},
   "outputs": [],
   "source": [
    "from sklearn.feature_extraction.text import CountVectorizer\n",
    "\n",
    "features = [' '.join([\"{}_{}\".format(c.lemma_ , c.head.lemma_)\n",
    "                      for c in nlp(s.text)])\n",
    "            for s in nlp(documents).sents]\n",
    "\n",
    "vectorizer = CountVectorizer()\n",
    "X = vectorizer.fit_transform(features)"
   ]
  },
  {
   "cell_type": "markdown",
   "metadata": {},
   "source": [
    "# Code 17"
   ]
  },
  {
   "cell_type": "code",
   "execution_count": null,
   "metadata": {},
   "outputs": [],
   "source": [
    "from sklearn.feature_extraction.text import TfidfVectorizer\n",
    "\n",
    "tfidf_vectorizer = TfidfVectorizer(analyzer='word',\n",
    "                                   min_df=0.001,\n",
    "                                   max_df=0.75,\n",
    "                                   stop_words='english',\n",
    "                                   sublinear_tf=True)\n",
    "\n",
    "X = tfidf_vectorizer.fit_transform(documents)"
   ]
  },
  {
   "cell_type": "markdown",
   "metadata": {},
   "source": [
    "# Code 18"
   ]
  },
  {
   "cell_type": "code",
   "execution_count": null,
   "metadata": {},
   "outputs": [],
   "source": [
    "idf = tfidf_vectorizer.idf_\n",
    "tfidf = X.sum(axis=0).A1"
   ]
  },
  {
   "cell_type": "markdown",
   "metadata": {},
   "source": [
    "# Code 19"
   ]
  },
  {
   "cell_type": "code",
   "execution_count": null,
   "metadata": {},
   "outputs": [],
   "source": [
    "import numpy as np\n",
    "def nearest_neighbors(query_vector , vectors , n=10):\n",
    "    # compute cosine similarities\n",
    "    ranks = np.dot(query_vector , vectors.T) / np.sqrt(np.sum(\n",
    "vectors**2, 1))\n",
    "    # sort by similarity , reverse order , and get the top N\n",
    "    neighbors = [idx for idx in ranks.argsort()[::-1]][:n]\n",
    "    return neighbors"
   ]
  },
  {
   "cell_type": "markdown",
   "metadata": {},
   "source": [
    "# Code 20\n",
    "\n",
    "This code assumes a collection of documents called `corpus`"
   ]
  },
  {
   "cell_type": "code",
   "execution_count": null,
   "metadata": {},
   "outputs": [],
   "source": [
    "from gensim.models import Word2Vec\n",
    "from gensim.models.word2vec import FAST_VERSION\n",
    "\n",
    "# initialize model\n",
    "w2v_model = Word2Vec(size=300, # number of dimensions\n",
    "                     window=5, # context window size\n",
    "                     hs=0, # do not use hierarchical softmax\n",
    "                     sample=0.000001, # downsample frequent words\n",
    "                     negative=5, # use 5 negative sampled words\n",
    "                     min_count=10, # discard words that occur fewer times\n",
    "                     workers=-1, # use all cores\n",
    "                     iter=5000) # \n",
    "\n",
    "# build vocabulary\n",
    "w2v_model.build_vocab(corpus)\n",
    "\n",
    "# train model\n",
    "w2v_model.train(corpus, \n",
    "                total_examples=w2v_model.corpus_count,\n",
    "                epochs=w2v_model.epochs)"
   ]
  },
  {
   "cell_type": "markdown",
   "metadata": {},
   "source": [
    "# Code 21"
   ]
  },
  {
   "cell_type": "code",
   "execution_count": null,
   "metadata": {},
   "outputs": [],
   "source": [
    "word1 = \"clean\"\n",
    "word2 = \"dirty\"\n",
    "\n",
    "# retrive the actual vector\n",
    "w2v_model.wv[word1]\n",
    "\n",
    "# compare\n",
    "w2v_model.wv.similarity(word1 , word2)\n",
    "\n",
    "# get the 3 most similar words\n",
    "w2v_model.wv.most_similar(word1 , topn=3)"
   ]
  },
  {
   "cell_type": "markdown",
   "metadata": {},
   "source": [
    "# Code 22"
   ]
  },
  {
   "cell_type": "code",
   "execution_count": null,
   "metadata": {},
   "outputs": [],
   "source": [
    "# get the analogous word\n",
    "w2v_model.wv.most_similar(positive=['king', 'woman'], negative=['man']"
   ]
  },
  {
   "cell_type": "markdown",
   "metadata": {},
   "source": [
    "# Code 23"
   ]
  },
  {
   "cell_type": "code",
   "execution_count": null,
   "metadata": {},
   "outputs": [],
   "source": [
    "from gensim.models import Doc2Vec\n",
    "from gensim.models.doc2vec import FAST_VERSION\n",
    "from gensim.models.doc2vec import TaggedDocument\n",
    "\n",
    "corpus = []\n",
    "for docid , document in enumerate(documents):\n",
    "    corpus.append(TaggedDocument(document.split(), tags=[\"{0:0>4}\".format(docid)]))\n",
    "\n",
    "d2v_model = Doc2Vec(size=300,\n",
    "                    window=5,\n",
    "                    hs=0,\n",
    "                    sample=0.000001,\n",
    "                    negative=5,\n",
    "                    min_count=10,\n",
    "                    workers=-1,\n",
    "                    iter=5000,\n",
    "                    dm=0,\n",
    "                    dbow_words=1)\n",
    "\n",
    "d2v_model.build_vocab(corpus)\n",
    "\n",
    "d2v_model.train(corpus,\n",
    "                total_examples=d2v_model.corpus_count,\n",
    "                epochs=d2v_model.epochs)"
   ]
  }
 ],
 "metadata": {
  "kernelspec": {
   "display_name": "Python 3",
   "language": "python",
   "name": "python3"
  },
  "language_info": {
   "codemirror_mode": {
    "name": "ipython",
    "version": 3
   },
   "file_extension": ".py",
   "mimetype": "text/x-python",
   "name": "python",
   "nbconvert_exporter": "python",
   "pygments_lexer": "ipython3",
   "version": "3.6.8"
  }
 },
 "nbformat": 4,
 "nbformat_minor": 2
}
