{
 "cells": [
  {
   "cell_type": "markdown",
   "metadata": {},
   "source": [
    "# Code 24\n",
    "\n",
    "This code expects a data matrix `X`"
   ]
  },
  {
   "cell_type": "code",
   "execution_count": null,
   "metadata": {},
   "outputs": [],
   "source": [
    "from sklearn.decomposition import TruncatedSVD\n",
    "k = 10\n",
    "\n",
    "svd = TruncatedSVD(n_components=k)\n",
    "U = svd.fit_transform(X)\n",
    "S = svd.singular_values_\n",
    "V = svd.components_"
   ]
  },
  {
   "cell_type": "markdown",
   "metadata": {},
   "source": [
    "# Code 25"
   ]
  },
  {
   "cell_type": "code",
   "execution_count": null,
   "metadata": {},
   "outputs": [],
   "source": [
    "from sklearn.decomposition import NMF\n",
    "\n",
    "nmf = NMF(n_components=k, init='nndsvd', random_state=0) W = nmf.fit_transform(X)\n",
    "H = nmf.components_"
   ]
  },
  {
   "cell_type": "markdown",
   "metadata": {},
   "source": [
    "# Code 26"
   ]
  },
  {
   "cell_type": "code",
   "execution_count": null,
   "metadata": {},
   "outputs": [],
   "source": [
    "import pandas as pd\n",
    "import matplotlib.pyplot as plt\n",
    "from mpl_toolkits.mplot3d import Axes3D\n",
    "from matplotlib import colors\n",
    "\n",
    "def plot_vectors(vectors, title='VIZ', labels=None, dimensions=3):   \n",
    "    # set up graph\n",
    "    fig = plt.figure(figsize=(10,10))\n",
    "\n",
    "    # create data frame\n",
    "    df = pd.DataFrame(data={'x':vectors[:,0], 'y': vectors[:,1]})\n",
    "    # add labels, if supplied\n",
    "    if labels is not None:\n",
    "        df['label'] = labels\n",
    "        print(df.label)\n",
    "    else:\n",
    "        df['label'] = [''] * len(df)\n",
    "\n",
    "    # assign colors to labels\n",
    "    cm = plt.get_cmap('afmhot') # choose the color palette\n",
    "    n_labels = len(df.label.unique())\n",
    "    label_colors = [cm(1. * i/n_labels) for i in range(n_labels)]\n",
    "    cMap = colors.ListedColormap(label_colors)\n",
    "        \n",
    "    # plot in 3 dimensions\n",
    "    if dimensions == 3:\n",
    "        # add z-axis information\n",
    "        df['z'] = vectors[:,2]\n",
    "        # define plot\n",
    "        ax = fig.add_subplot(111, projection='3d')\n",
    "        frame1 = plt.gca() \n",
    "        # remove axis ticks\n",
    "        frame1.axes.xaxis.set_ticklabels([])\n",
    "        frame1.axes.yaxis.set_ticklabels([])\n",
    "        frame1.axes.zaxis.set_ticklabels([])\n",
    "\n",
    "        # plot each label as scatter plot in its own color\n",
    "        for l, label in enumerate(df.label.unique()):\n",
    "            df2 = df[df.label == label]\n",
    "            ax.scatter(df2['x'], df2['y'], df2['z'], c=label_colors[l], cmap=cMap, edgecolor=None, label=label, alpha=0.3, s=100)\n",
    "      \n",
    "    # plot in 2 dimensions\n",
    "    elif dimensions == 2:\n",
    "        ax = fig.add_subplot(111)\n",
    "        frame1 = plt.gca() \n",
    "        frame1.axes.xaxis.set_ticklabels([])\n",
    "        frame1.axes.yaxis.set_ticklabels([])\n",
    "\n",
    "        for l, label in enumerate(df.label.unique()):\n",
    "            df2 = df[df.label == label]\n",
    "            ax.scatter(df2['x'], df2['y'], c=label_colors[l], cmap=cMap, edgecolor=None, label=label, alpha=0.3, s=100)\n",
    "\n",
    "    else:\n",
    "        raise NotImplementedError()\n",
    "\n",
    "    plt.title(title)\n",
    "    plt.show()"
   ]
  },
  {
   "cell_type": "markdown",
   "metadata": {},
   "source": [
    "# Code 27"
   ]
  },
  {
   "cell_type": "code",
   "execution_count": null,
   "metadata": {},
   "outputs": [],
   "source": [
    "def show_topics(a, vocabulary, topn=5):\n",
    "    topic_words = ([[vocabulary[i] for i in np.argsort(t)[:-topn-1:-1]]\n",
    "                    for t in a])\n",
    "    return [', '.join(t) for t in topic_words]"
   ]
  },
  {
   "cell_type": "code",
   "execution_count": null,
   "metadata": {},
   "outputs": [],
   "source": []
  }
 ],
 "metadata": {
  "kernelspec": {
   "display_name": "Python 3",
   "language": "python",
   "name": "python3"
  },
  "language_info": {
   "codemirror_mode": {
    "name": "ipython",
    "version": 3
   },
   "file_extension": ".py",
   "mimetype": "text/x-python",
   "name": "python",
   "nbconvert_exporter": "python",
   "pygments_lexer": "ipython3",
   "version": "3.6.8"
  }
 },
 "nbformat": 4,
 "nbformat_minor": 2
}
