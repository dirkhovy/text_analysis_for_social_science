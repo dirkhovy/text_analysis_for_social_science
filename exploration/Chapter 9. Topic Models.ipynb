{
 "cells": [
  {
   "cell_type": "markdown",
   "metadata": {},
   "source": [
    "# Code 36"
   ]
  },
  {
   "cell_type": "code",
   "execution_count": null,
   "metadata": {},
   "outputs": [],
   "source": [
    "from gensim.models import LdaMulticore , TfidfModel\n",
    "from gensim.corpora import Dictionary\n",
    "import multiprocessing"
   ]
  },
  {
   "cell_type": "markdown",
   "metadata": {},
   "source": [
    "# Code 37\n",
    "This code assumes a collection of documents `instances`"
   ]
  },
  {
   "cell_type": "code",
   "execution_count": null,
   "metadata": {},
   "outputs": [],
   "source": [
    "dictionary = Dictionary(instances)\n",
    "dictionary.filter_extremes(no_below=100, no_above=0.1)\n",
    "\n",
    "ldacorpus = [dictionary.doc2bow(text) for text in instances]\n",
    "\n",
    "tfidfmodel = TfidfModel(ldacorpus)\n",
    "\n",
    "model_corpus = tfidfmodel[ldacorpus]"
   ]
  },
  {
   "cell_type": "markdown",
   "metadata": {},
   "source": [
    "# Code 38"
   ]
  },
  {
   "cell_type": "code",
   "execution_count": null,
   "metadata": {},
   "outputs": [],
   "source": [
    "num_passes = 10\n",
    "num_topics = 20\n",
    "\n",
    "# find chunksize to make about 200 updates\n",
    "chunk_size = len(model_corpus) * num_passes/200\n",
    "\n",
    "model = LdaMulticore(model_corpus, # corpus from above\n",
    "                     id2word=dictionary, # dictionary from above\n",
    "                     num_topics=num_topics,\n",
    "                     workers=min(10, multiprocessing.cpu_count()-1), # use 10 or maximum number of cores -1\n",
    "                     passes=num_passes,\n",
    "                     chunksize=chunk_size)"
   ]
  },
  {
   "cell_type": "markdown",
   "metadata": {},
   "source": [
    "# Code 39"
   ]
  },
  {
   "cell_type": "code",
   "execution_count": null,
   "metadata": {},
   "outputs": [],
   "source": [
    "topic_corpus = model[model_corpus]"
   ]
  },
  {
   "cell_type": "markdown",
   "metadata": {},
   "source": [
    "# Code 40"
   ]
  },
  {
   "cell_type": "code",
   "execution_count": null,
   "metadata": {},
   "outputs": [],
   "source": [
    "model.print_topics()"
   ]
  },
  {
   "cell_type": "markdown",
   "metadata": {},
   "source": [
    "# Code 41"
   ]
  },
  {
   "cell_type": "code",
   "execution_count": null,
   "metadata": {},
   "outputs": [],
   "source": [
    "import re\n",
    "topic_sep = re.compile(r\"0\\.[0-9]{3}\\*\")\n",
    "\n",
    "model_topics = [(topic_no , re.sub(topic_sep, '', model_topic).split(' + ')) \n",
    "                for topic_no, model_topic in model.print_topics(num_topics=num_topics, \n",
    "                                                                                                                              num_words=5)]\n",
    "\n",
    "descriptors = []\n",
    "for i, m in model_topics:\n",
    "    print(i+1, \", \".join(m[:5]))\n",
    "    descriptors.append(\", \".join(m[:2]).replace('\"', ''))"
   ]
  },
  {
   "cell_type": "markdown",
   "metadata": {},
   "source": [
    "# Code 42"
   ]
  },
  {
   "cell_type": "code",
   "execution_count": null,
   "metadata": {},
   "outputs": [],
   "source": [
    "from gensim.models import CoherenceModel\n",
    "\n",
    "coherence_values = []\n",
    "model_list = []\n",
    "for num_topics in range(5, 21):\n",
    "    print(num_topics)\n",
    "    model = LdaMulticore(corpus=sample, id2word=dictionary, num_topics=num_topics)\n",
    "    model_list.append(model)\n",
    "    coherencemodel_umass = CoherenceModel(model=model, texts=test_sample, dictionary=dictionary, coherence='u_mass')\n",
    "\n",
    "    coherencemodel_cv = CoherenceModel(model=model, texts=test_sample, dictionary=dictionary, coherence='c_v')\n",
    "\n",
    "    coherence_values.append((num_topics, coherencemodel_umass.get_coherence(), coherencemodel_cv.get_coherence()))"
   ]
  },
  {
   "cell_type": "markdown",
   "metadata": {},
   "source": [
    "# Code 43"
   ]
  },
  {
   "cell_type": "code",
   "execution_count": null,
   "metadata": {},
   "outputs": [],
   "source": [
    "from collections import defaultdict\n",
    "author2doc = defaultdict(list)\n",
    "\n",
    "for i, country in enumerate(df.country):\n",
    "    author2doc[country].append(i)"
   ]
  },
  {
   "cell_type": "markdown",
   "metadata": {},
   "source": [
    "# Code 44"
   ]
  },
  {
   "cell_type": "code",
   "execution_count": null,
   "metadata": {},
   "outputs": [],
   "source": [
    "from gensim.models import AuthorTopicModel\n",
    "from gensim.test.utils import temporary_file\n",
    "\n",
    "with temporary_file(\"serialized\") as s_path:\n",
    "    author_model = AuthorTopicModel(\n",
    "        model_corpus, \n",
    "        author2doc=author2doc, \n",
    "        id2word=dictionary, \n",
    "        num_topics=9,\n",
    "        serialized=True, \n",
    "        serialization_path=s_path,\n",
    "        alpha=0.5\n",
    "    )\n",
    "    \n",
    "    author_model.update(model_corpus, author2doc)"
   ]
  }
 ],
 "metadata": {
  "kernelspec": {
   "display_name": "Python 3",
   "language": "python",
   "name": "python3"
  },
  "language_info": {
   "codemirror_mode": {
    "name": "ipython",
    "version": 3
   },
   "file_extension": ".py",
   "mimetype": "text/x-python",
   "name": "python",
   "nbconvert_exporter": "python",
   "pygments_lexer": "ipython3",
   "version": "3.6.8"
  }
 },
 "nbformat": 4,
 "nbformat_minor": 2
}
