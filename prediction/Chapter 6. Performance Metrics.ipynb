{
 "cells": [
  {
   "cell_type": "markdown",
   "id": "613f3a32",
   "metadata": {},
   "source": [
    "# Code 10"
   ]
  },
  {
   "cell_type": "code",
   "execution_count": null,
   "id": "71496f2a",
   "metadata": {},
   "outputs": [],
   "source": [
    "from sklearn.metrics import f1_score, precision_score, recall_score\n",
    "\n",
    "prec = precision_score(gold, prediction, average=\"micro\")\n",
    "rec = recall_score(gold, prediction, average=\"micro\")\n",
    "f1 = f1_score(gold, prediction, average=\"micro\")"
   ]
  },
  {
   "cell_type": "markdown",
   "id": "259ecf1f",
   "metadata": {},
   "source": [
    "# Code 11"
   ]
  },
  {
   "cell_type": "code",
   "execution_count": null,
   "id": "da1c9b54",
   "metadata": {},
   "outputs": [],
   "source": [
    "from sklearn.model_selection import cross_val_score\n",
    "\n",
    "prec_cv = cross_val_score(clf, X, y=y, cv=5, n_jobs=-1, scoring=\"precision_micro\")\n",
    "rec_cv = cross_val_score(clf, X, y=y, cv=5, n_jobs=-1, scoring=\"recall_micro\")\n",
    "f1_cv = cross_val_score(clf, X, y=y, cv=5, n_jobs=-1, scoring=\"f1_micro\")"
   ]
  },
  {
   "cell_type": "markdown",
   "id": "961da829",
   "metadata": {},
   "source": [
    "# Code 12"
   ]
  },
  {
   "cell_type": "code",
   "execution_count": null,
   "id": "bbd6875d",
   "metadata": {},
   "outputs": [],
   "source": [
    "import sklearn.metrics as mx\n",
    "sorted(mx.SCORERS.keys())"
   ]
  }
 ],
 "metadata": {
  "kernelspec": {
   "display_name": "Python 3 (ipykernel)",
   "language": "python",
   "name": "python3"
  },
  "language_info": {
   "codemirror_mode": {
    "name": "ipython",
    "version": 3
   },
   "file_extension": ".py",
   "mimetype": "text/x-python",
   "name": "python",
   "nbconvert_exporter": "python",
   "pygments_lexer": "ipython3",
   "version": "3.8.12"
  }
 },
 "nbformat": 4,
 "nbformat_minor": 5
}
