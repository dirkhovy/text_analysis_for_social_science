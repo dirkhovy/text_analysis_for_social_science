{
 "cells": [
  {
   "cell_type": "markdown",
   "id": "8f5babd7",
   "metadata": {},
   "source": [
    "# Code 1"
   ]
  },
  {
   "cell_type": "code",
   "execution_count": null,
   "id": "e9d0689b",
   "metadata": {},
   "outputs": [],
   "source": [
    "from sklearn.linear_model import LogisticRegression\n",
    "from sklearn.dummy import DummyClassifier\n",
    "from sklearn.feature_extraction.text import TfidfVectorizer\n",
    "from sklearn.model_selection import cross_val_score\n",
    "from sklearn.model_selection import GridSearchCV\n",
    "from sklearn.calibration import CalibratedClassifierCV\n",
    "\n",
    "vectorizer = TfidfVectorizer(ngram_range=(1,2), \n",
    "                             min_df=0.001, \n",
    "                             max_df=0.75, \n",
    "                             stop_words='english')\n",
    "\n",
    "X = vectorizer.fit_transform(data['clean_text'])\n",
    "y = data['output']\n",
    "\n",
    "print(X.shape, y.shape)\n",
    "\n",
    "# get baseline performance\n",
    "most_frequent = DummyClassifier(strategy='most_frequent')\n",
    "print(cross_val_score(most_frequent, X, y=y, cv=5, n_jobs=-1, scoring=\"f1_micro\").mean())\n",
    "\n",
    "# fine-tune classifier\n",
    "base_clf = CalibratedClassifierCV(cv=5,\n",
    "    base_estimator=LogisticRegression(n_jobs=-1,\n",
    "                                      solver='lbfgs'\n",
    "                                     )\n",
    ")\n",
    "param_grid = {'base_estimator__C': [50, 20, 10, 1.0, 0.5, 0.1, 0.05, 0.01],\n",
    "              'base_estimator__class_weight': ['balanced', 'auto']\n",
    "             }\n",
    "search = GridSearchCV(base_clf, param_grid, cv=5, scoring='f1_micro')\n",
    "search.fit(X, y)\n",
    "\n",
    "# use best classifier to get performance estimate\n",
    "clf = search.best_estimator_.base_estimator\n",
    "print(cross_val_score(clf, X, y=y, cv=5, n_jobs=-1, scoring=\"f1_micro\").mean())"
   ]
  },
  {
   "cell_type": "markdown",
   "id": "453851fd",
   "metadata": {},
   "source": [
    "# Code 2"
   ]
  },
  {
   "cell_type": "code",
   "execution_count": null,
   "id": "ae3932f7",
   "metadata": {},
   "outputs": [],
   "source": [
    "from sklearn.feature_selection import SelectKBest\n",
    "from sklearn.feature_selection import chi2\n",
    "from sklearn.pipeline import Pipeline\n",
    "\n",
    "# set up the sequence\n",
    "pipe = Pipeline([\n",
    "    ('reduce_dim', 'passthrough'),\n",
    "    ('classifier', clf)\n",
    "])\n",
    "\n",
    "# specify selection range\n",
    "N_FEATURES = [1800, 1500, 1000, 500, 300]\n",
    "param_grid = [\n",
    "    {\n",
    "        'reduce_dim': [SelectKBest(chi2)],\n",
    "        'reduce_dim__k': N_FEATURES\n",
    "    },\n",
    "]\n",
    "\n",
    "# fit the model to different feature sets\n",
    "grid = GridSearchCV(pipe, n_jobs=1, param_grid=param_grid, cv=5, scoring='f1_micro')\n",
    "grid.fit(X, y)\n",
    "\n",
    "# save the best selector\n",
    "selector = grid.best_params_['reduce_dim']\n",
    "X_sel = selector.transform(X)\n",
    "\n",
    "# refit classifier on entire, dimensionality-reduced data set\n",
    "clf.fit(X_sel, y)\n",
    "\n",
    "cv_reg = cross_val_score(clf, X_sel, y=y, cv=5, n_jobs=-1, scoring=\"f1_micro\")\n",
    "print(\"5-CV on train: {}\".format(cv_reg.mean()))\n"
   ]
  },
  {
   "cell_type": "markdown",
   "id": "b7385bd4",
   "metadata": {},
   "source": [
    "# Code 3"
   ]
  },
  {
   "cell_type": "code",
   "execution_count": null,
   "id": "2eef25a4",
   "metadata": {},
   "outputs": [],
   "source": [
    "# read in new data set\n",
    "# transform text into word counts\n",
    "# IMPORTANT: use the same vectorizer we fit on training data to create vectors!\n",
    "Z = vectorizer.transform(new_data['clean_text'])\n",
    "\n",
    "# select features for new data\n",
    "Z_sel = selector.transform(Z)\n",
    "\n",
    "# use best classifier to predict labels\n",
    "predictions = clf.predict(Z_sel)\n"
   ]
  }
 ],
 "metadata": {
  "kernelspec": {
   "display_name": "Python 3 (ipykernel)",
   "language": "python",
   "name": "python3"
  },
  "language_info": {
   "codemirror_mode": {
    "name": "ipython",
    "version": 3
   },
   "file_extension": ".py",
   "mimetype": "text/x-python",
   "name": "python",
   "nbconvert_exporter": "python",
   "pygments_lexer": "ipython3",
   "version": "3.8.12"
  }
 },
 "nbformat": 4,
 "nbformat_minor": 5
}
