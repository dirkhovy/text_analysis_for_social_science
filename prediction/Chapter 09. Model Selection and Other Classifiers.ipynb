{
 "cells": [
  {
   "cell_type": "markdown",
   "id": "ef17d242",
   "metadata": {},
   "source": [
    "# Code 16"
   ]
  },
  {
   "cell_type": "code",
   "execution_count": null,
   "id": "8907e6c9",
   "metadata": {},
   "outputs": [],
   "source": [
    "from sklearn.metrics import cross_val_score\n",
    "\n",
    "best_c = None\n",
    "best_f1_score = 0.0\n",
    "\n",
    "for c in [50, 20, 10, 1.0, 0.5, 0.1, 0.05, 0.01]:\n",
    "    clf = LogisticRegression(C=c, n_jobs=-1)\n",
    "    cv_reg = cross_val_score(clf, X, y=y, cv=5, n_jobs=-1, scoring=\"f1_micro\").mean()\n",
    "\n",
    "    print(\"5-CV on train at C={}: {}\".format(c, cv_reg.mean()))\n",
    "    print()\n",
    "\n",
    "    if cv_reg > best_f1_score:\n",
    "        best_f1_score = cv_reg\n",
    "        best_c = c\n",
    "        \n",
    "print(\"best C parameter: {}\".format(best_c))"
   ]
  },
  {
   "cell_type": "markdown",
   "id": "a5ef86bd",
   "metadata": {},
   "source": [
    "# Code 17"
   ]
  },
  {
   "cell_type": "code",
   "execution_count": null,
   "id": "245c9cdd",
   "metadata": {},
   "outputs": [],
   "source": [
    "from sklearn.svm import SVC\n",
    "svm = SVC()"
   ]
  },
  {
   "cell_type": "markdown",
   "id": "0c8547b8",
   "metadata": {},
   "source": [
    "# Code 18"
   ]
  },
  {
   "cell_type": "code",
   "execution_count": null,
   "id": "ab013530",
   "metadata": {},
   "outputs": [],
   "source": [
    "from sklearn.naive_bayes import MultinomialNB\n",
    "nb = MultinomialNB()"
   ]
  }
 ],
 "metadata": {
  "kernelspec": {
   "display_name": "Python 3 (ipykernel)",
   "language": "python",
   "name": "python3"
  },
  "language_info": {
   "codemirror_mode": {
    "name": "ipython",
    "version": 3
   },
   "file_extension": ".py",
   "mimetype": "text/x-python",
   "name": "python",
   "nbconvert_exporter": "python",
   "pygments_lexer": "ipython3",
   "version": "3.8.12"
  }
 },
 "nbformat": 4,
 "nbformat_minor": 5
}
