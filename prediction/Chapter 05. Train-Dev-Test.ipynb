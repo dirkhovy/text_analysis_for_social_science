{
 "cells": [
  {
   "cell_type": "markdown",
   "id": "99f3fc6d",
   "metadata": {},
   "source": [
    "# Code 8"
   ]
  },
  {
   "cell_type": "code",
   "execution_count": null,
   "id": "f21f63c0",
   "metadata": {},
   "outputs": [],
   "source": [
    "from sklearn.linear_model import LogisticRegression\n",
    "classifier = LogisticRegression()\n",
    "classifier.fit(X, y)\n",
    "predictions = classifier.predict(Z)"
   ]
  },
  {
   "cell_type": "markdown",
   "id": "1a296fe1",
   "metadata": {},
   "source": [
    "# Code 9"
   ]
  },
  {
   "cell_type": "code",
   "execution_count": null,
   "id": "780fb5a6",
   "metadata": {},
   "outputs": [],
   "source": [
    "from sklearn.model_selection import StratifiedKFold\n",
    "\n",
    "skf = StratifiedKFold(n_splits=3)\n",
    "for train_ids, test_ids in skf.split(X, y):\n",
    "    fold_X_train = X[train_ids]\n",
    "    fold_y_train = y[train_ids]\n",
    "    \n",
    "    fold_X_test = X[test_ids]\n",
    "    fold_y_test = y[test_ids]\n"
   ]
  }
 ],
 "metadata": {
  "kernelspec": {
   "display_name": "Python 3 (ipykernel)",
   "language": "python",
   "name": "python3"
  },
  "language_info": {
   "codemirror_mode": {
    "name": "ipython",
    "version": 3
   },
   "file_extension": ".py",
   "mimetype": "text/x-python",
   "name": "python",
   "nbconvert_exporter": "python",
   "pygments_lexer": "ipython3",
   "version": "3.8.12"
  }
 },
 "nbformat": 4,
 "nbformat_minor": 5
}
