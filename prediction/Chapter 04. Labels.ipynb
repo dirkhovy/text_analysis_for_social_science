{
 "cells": [
  {
   "cell_type": "markdown",
   "id": "2fdb68c4",
   "metadata": {},
   "source": [
    "# Code 6"
   ]
  },
  {
   "cell_type": "code",
   "execution_count": null,
   "id": "aa233945",
   "metadata": {},
   "outputs": [],
   "source": [
    "from sklearn.preprocessing import LabelEncoder\n",
    "\n",
    "# transform labels into numbers\n",
    "labels2numbers = LabelEncoder()\n",
    "y = labels2numbers.fit_transform(labels)"
   ]
  },
  {
   "cell_type": "markdown",
   "id": "a65a3872",
   "metadata": {},
   "source": [
    "# Code 7"
   ]
  },
  {
   "cell_type": "code",
   "execution_count": null,
   "id": "3bf6616c",
   "metadata": {},
   "outputs": [],
   "source": [
    "# translate numbers back into original labels\n",
    "predicted_labels = labels2numbers.inverse_transform(predictions)"
   ]
  }
 ],
 "metadata": {
  "kernelspec": {
   "display_name": "Python 3 (ipykernel)",
   "language": "python",
   "name": "python3"
  },
  "language_info": {
   "codemirror_mode": {
    "name": "ipython",
    "version": 3
   },
   "file_extension": ".py",
   "mimetype": "text/x-python",
   "name": "python",
   "nbconvert_exporter": "python",
   "pygments_lexer": "ipython3",
   "version": "3.8.12"
  }
 },
 "nbformat": 4,
 "nbformat_minor": 5
}
