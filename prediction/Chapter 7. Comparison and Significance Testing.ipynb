{
 "cells": [
  {
   "cell_type": "markdown",
   "id": "eaac5d55",
   "metadata": {},
   "source": [
    "# Code 13"
   ]
  },
  {
   "cell_type": "code",
   "execution_count": null,
   "id": "788d8d05",
   "metadata": {},
   "outputs": [],
   "source": [
    "from sklearn.dummy import DummyClassifier\n",
    "from sklearn.metrics import f1_score\n",
    "\n",
    "most_frequent = DummyClassifier(strategy='most_frequent')\n",
    "most_frequent.fit(X, y)\n",
    "most_frequent_predictions = most_frequent.predict(X)\n",
    "print(f1_score(y, most_frequent_predictions, average='micro'))"
   ]
  },
  {
   "cell_type": "markdown",
   "id": "649cad37",
   "metadata": {},
   "source": [
    "# Code 14"
   ]
  },
  {
   "cell_type": "code",
   "execution_count": null,
   "id": "6d12ff44",
   "metadata": {},
   "outputs": [],
   "source": [
    "import numpy as np\n",
    "\n",
    "def bootstrap_sample(system1, system2, gold, samples=10000, score=precision_score):\n",
    "    \"\"\"\n",
    "    compute the proportion of times the performance difference of the \n",
    "    two systems on a subsample is significantly different from the \n",
    "    performance on the entire sample\n",
    "    \"\"\"\n",
    "    N = len(gold) # number of instances\n",
    "    \n",
    "    # make sure the two systems have the same number of samples\n",
    "    assert len(system1) == N and len(system2) == N, 'samples have different lengths'\n",
    "\n",
    "    # compute performance score on entire sample\n",
    "    base_score1 = score(gold, system1, average='binary')\n",
    "    base_score2 = score(gold, system2, average='binary')\n",
    "\n",
    "    # compute the difference\n",
    "    basedelta = base_score1 - base_score2\n",
    "    assert basedelta > 0, 'Wrong system first, system1 needs to be better!'\n",
    "\n",
    "    system1 = np.array(system1)\n",
    "    system2 = np.array(system2)\n",
    "    gold = np.array(gold)\n",
    "\n",
    "    p = 0\n",
    "    for i in range(samples):\n",
    "        # select a subsample, with replacement\n",
    "        sample = np.random.choice(N, size=N, replace=True)\n",
    "\n",
    "    # collect data corresponding to subsample\n",
    "        sample1 = system1[sample]\n",
    "        sample2 = system2[sample]\n",
    "        gold_sample = gold[sample]\n",
    "\n",
    "    # compute scores on subsample\n",
    "        sample_score1 = score(gold_sample, sample1, average='binary')\n",
    "        sample_score2 = score(gold_sample, sample2, average='binary')\n",
    "        sample_delta = sample_score1 - sample_score2\n",
    "\n",
    "        # check whether the observed sample difference is at least \n",
    "        # twice as large as the base difference\n",
    "        if sample_delta > 2*basedelta:\n",
    "            p += 1\n",
    "                \n",
    "    return p/samples"
   ]
  }
 ],
 "metadata": {
  "kernelspec": {
   "display_name": "Python 3 (ipykernel)",
   "language": "python",
   "name": "python3"
  },
  "language_info": {
   "codemirror_mode": {
    "name": "ipython",
    "version": 3
   },
   "file_extension": ".py",
   "mimetype": "text/x-python",
   "name": "python",
   "nbconvert_exporter": "python",
   "pygments_lexer": "ipython3",
   "version": "3.8.12"
  }
 },
 "nbformat": 4,
 "nbformat_minor": 5
}
