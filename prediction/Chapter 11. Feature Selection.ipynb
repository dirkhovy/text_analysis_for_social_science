{
 "cells": [
  {
   "cell_type": "markdown",
   "id": "b88212e1",
   "metadata": {},
   "source": [
    "# Code 19"
   ]
  },
  {
   "cell_type": "code",
   "execution_count": null,
   "id": "93edebbd",
   "metadata": {},
   "outputs": [],
   "source": [
    "from sklearn.feature_selection import SelectKBest\n",
    "from sklearn.feature_selection import chi2\n",
    "\n",
    "selector = SelectKBest(chi2, k=1500).fit(X, y)\n",
    "X_sel = selector.transform(X)\n",
    "print(X_sel.shape)"
   ]
  },
  {
   "cell_type": "markdown",
   "id": "1f8c3a81",
   "metadata": {},
   "source": [
    "# Code 20"
   ]
  },
  {
   "cell_type": "code",
   "execution_count": null,
   "id": "6ca37427",
   "metadata": {},
   "outputs": [],
   "source": [
    "from sklearn.linear_model import LogisticRegression\n",
    "import numpy as np\n",
    "\n",
    "def positive_indicatorsRLR(X, y, target, vectorizer, selection_threshold=0.3, num_iters=100):\n",
    "    n_instances, n_feats = X.shape\n",
    "    \n",
    "    pos_scores = [] # all coefficient > 0\n",
    "    neg_scores = [] # all coefficient < 0\n",
    "    # choices for lambda weight\n",
    "    penalities = [10,5,2,1,0.5,0.1,0.05,0.01,0.005,0.001,0.0001, 0.00001]\n",
    "\n",
    "    # select repeated subsamples\n",
    "    for iteration in range(num_iters):\n",
    "        # initialize a model with randomly-weighted L1 penalty\n",
    "        clf = LogisticRegression(penalty='l1', C=penalities[np.random.randint(len(penalities))])\n",
    "\n",
    "    # choose a random subset of indices of the data with replacement\n",
    "        selection = np.random.choice(n_instances, size=int(n_instances * 0.75))\n",
    "        try:\n",
    "            clf.fit(X[selection], y[selection])\n",
    "        except ValueError:\n",
    "            continue\n",
    "    \n",
    "    # record which coefficients got a positive or negative score\n",
    "        pos_scores.append(clf.coef_ > 0)\n",
    "        neg_scores.append(clf.coef_ < 0)\n",
    "\n",
    "    # normalize the counts\n",
    "    pos_scores = (np.array(pos_scores).sum(axis=0)/num_iters).reshape(-1)\n",
    "    neg_scores = (np.array(neg_scores).sum(axis=0)/num_iters).reshape(-1)\n",
    "\n",
    "    # find the features corresponding to the non-zero coefficients\n",
    "    features = vectorizer.get_feature_names()\n",
    "    pos_positions = [i for i, v in enumerate(pos_scores >= selection_threshold) if v]\n",
    "    neg_positions = [i for i, v in enumerate(neg_scores >= selection_threshold) if v]\n",
    "\n",
    "    pos = [(features[i], pos_scores[i]) for i in pos_positions]\n",
    "    neg = [(features[i], neg_scores[i]) for i in neg_positions]\n",
    "\n",
    "    posdf = pd.DataFrame(pos, columns='term score'.split()).sort_values('score', ascending=False)\n",
    "    negdf = pd.DataFrame(neg, columns='term score'.split()).sort_values('score', ascending=False)\n",
    "\n",
    "    return posdf, negdf"
   ]
  }
 ],
 "metadata": {
  "kernelspec": {
   "display_name": "Python 3 (ipykernel)",
   "language": "python",
   "name": "python3"
  },
  "language_info": {
   "codemirror_mode": {
    "name": "ipython",
    "version": 3
   },
   "file_extension": ".py",
   "mimetype": "text/x-python",
   "name": "python",
   "nbconvert_exporter": "python",
   "pygments_lexer": "ipython3",
   "version": "3.8.12"
  }
 },
 "nbformat": 4,
 "nbformat_minor": 5
}
