{
 "cells": [
  {
   "cell_type": "markdown",
   "id": "bd913789",
   "metadata": {},
   "source": [
    "# Code 4"
   ]
  },
  {
   "cell_type": "code",
   "execution_count": null,
   "id": "9c63c949",
   "metadata": {},
   "outputs": [],
   "source": [
    "from sklearn.feature_extraction.text import TfidfVectorizer\n",
    "\n",
    "tfidf_vectorizer = TfidfVectorizer(analyzer='word', \n",
    "                        min_df=0.001, \n",
    "                        max_df=0.75, \n",
    "                        stop_words='english', \n",
    "                        sublinear_tf=True)\n",
    "\n",
    "X = tfidf_vectorizer.fit_transform(documents)"
   ]
  },
  {
   "cell_type": "markdown",
   "id": "8d03a1ea",
   "metadata": {},
   "source": [
    "# Code 5"
   ]
  },
  {
   "cell_type": "code",
   "execution_count": null,
   "id": "aa079577",
   "metadata": {},
   "outputs": [],
   "source": [
    "from gensim.models import Word2Vec\n",
    "from gensim.models.word2vec import FAST_VERSION\n",
    "\n",
    "# initialize model\n",
    "w2v_model = Word2Vec(sentences=documents, \n",
    "                      vector_size=300, \n",
    "                      window=5, \n",
    "                      min_count=1, \n",
    "                      workers=-1\n",
    ")\n",
    "\n",
    "w2v_model.build_vocab(corpus)\n",
    "\n",
    "w2v_model.train(corpus, total_examples=w2v_model.corpus_count, epochs=w2v_model.epochs)"
   ]
  }
 ],
 "metadata": {
  "kernelspec": {
   "display_name": "Python 3 (ipykernel)",
   "language": "python",
   "name": "python3"
  },
  "language_info": {
   "codemirror_mode": {
    "name": "ipython",
    "version": 3
   },
   "file_extension": ".py",
   "mimetype": "text/x-python",
   "name": "python",
   "nbconvert_exporter": "python",
   "pygments_lexer": "ipython3",
   "version": "3.8.12"
  }
 },
 "nbformat": 4,
 "nbformat_minor": 5
}
