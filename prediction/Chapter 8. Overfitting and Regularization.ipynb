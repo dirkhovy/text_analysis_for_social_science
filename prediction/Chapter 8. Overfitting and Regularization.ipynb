{
 "cells": [
  {
   "cell_type": "markdown",
   "id": "ad0b16c7",
   "metadata": {},
   "source": [
    "# Code 15"
   ]
  },
  {
   "cell_type": "code",
   "execution_count": null,
   "id": "540639a7",
   "metadata": {},
   "outputs": [],
   "source": [
    "lasso = LogisticRegression(penalty='l1')"
   ]
  }
 ],
 "metadata": {
  "kernelspec": {
   "display_name": "Python 3 (ipykernel)",
   "language": "python",
   "name": "python3"
  },
  "language_info": {
   "codemirror_mode": {
    "name": "ipython",
    "version": 3
   },
   "file_extension": ".py",
   "mimetype": "text/x-python",
   "name": "python",
   "nbconvert_exporter": "python",
   "pygments_lexer": "ipython3",
   "version": "3.8.12"
  }
 },
 "nbformat": 4,
 "nbformat_minor": 5
}
